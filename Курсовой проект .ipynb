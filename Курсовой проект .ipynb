{
 "cells": [
  {
   "cell_type": "markdown",
   "id": "6620716b",
   "metadata": {},
   "source": [
    "# Курсовой проект"
   ]
  },
  {
   "cell_type": "markdown",
   "id": "f5901c44",
   "metadata": {},
   "source": [
    "## Постановка задачи "
   ]
  },
  {
   "cell_type": "markdown",
   "id": "380479d2",
   "metadata": {},
   "source": [
    "**Задача**\n",
    "\n",
    "Требуется, на основании имеющихся данных о клиентах банка, построить модель, используя обучающий датасет, для прогнозирования невыполнения долговых обязательств по текущему кредиту. Выполнить прогноз для примеров из тестового датасета.\n",
    "\n",
    "**Наименование файлов с данными**\n",
    "\n",
    "course_project_train.csv - обучающий датасет<br>\n",
    "course_project_test.csv - тестовый датасет\n",
    "\n",
    "**Целевая переменная**\n",
    "\n",
    "Credit Default - факт невыполнения кредитных обязательств\n",
    "\n",
    "**Метрика качества**\n",
    "\n",
    "F1-score (sklearn.metrics.f1_score)\n",
    "\n",
    "**Требования к решению**\n",
    "\n",
    "*Целевая метрика*\n",
    "* F1 > 0.5\n",
    "* Метрика оценивается по качеству прогноза для главного класса (1 - просрочка по кредиту)\n",
    "\n",
    "*Решение должно содержать*\n",
    "1. Тетрадка Jupyter Notebook с кодом Вашего решения, названная по образцу {ФИО}\\_solution.ipynb, пример SShirkin\\_solution.ipynb\n",
    "2. Файл CSV с прогнозами целевой переменной для тестового датасета, названный по образцу {ФИО}\\_predictions.csv, пример SShirkin\\_predictions.csv\n",
    "\n",
    "*Рекомендации для файла с кодом (ipynb)*\n",
    "1. Файл должен содержать заголовки и комментарии (markdown)\n",
    "2. Повторяющиеся операции лучше оформлять в виде функций\n",
    "3. Не делать вывод большого количества строк таблиц (5-10 достаточно)\n",
    "4. По возможности добавлять графики, описывающие данные (около 3-5)\n",
    "5. Добавлять только лучшую модель, то есть не включать в код все варианты решения проекта\n",
    "6. Скрипт проекта должен отрабатывать от начала и до конца (от загрузки данных до выгрузки предсказаний)\n",
    "7. Весь проект должен быть в одном скрипте (файл ipynb).\n",
    "8. Допускается применение библиотек Python и моделей машинного обучения,\n",
    "которые были в данном курсе.\n",
    "\n",
    "**Сроки сдачи**\n",
    "\n",
    "Cдать проект нужно в течение 5 дней после окончания последнего вебинара.\n",
    "Оценки работ, сданных до дедлайна, будут представлены в виде рейтинга, ранжированного по заданной метрике качества.\n",
    "Проекты, сданные после дедлайна или сданные повторно, не попадают в рейтинг, но можно будет узнать результат."
   ]
  },
  {
   "cell_type": "markdown",
   "id": "8aa9d41c",
   "metadata": {},
   "source": [
    "### Обзор данных"
   ]
  },
  {
   "cell_type": "markdown",
   "id": "10efa300",
   "metadata": {},
   "source": [
    "**Описание датасета**\n",
    "\n",
    "* **Home Ownership** - домовладение\n",
    "* **Annual Income** - годовой доход\n",
    "* **Years in current job** - количество лет на текущем месте работы\n",
    "* **Tax Liens** - налоговые обременения\n",
    "* **Number of Open Accounts** - количество открытых счетов\n",
    "* **Years of Credit History** - количество лет кредитной истории\n",
    "* **Maximum Open Credit** - наибольший открытый кредит\n",
    "* **Number of Credit Problems** - количество проблем с кредитом\n",
    "* **Months since last delinquent** - количество месяцев с последней просрочки платежа\n",
    "* **Bankruptcies** - банкротства\n",
    "* **Purpose** - цель кредита\n",
    "* **Term** - срок кредита\n",
    "* **Current Loan Amount** - текущая сумма кредита\n",
    "* **Current Credit Balance** - текущий кредитный баланс\n",
    "* **Monthly Debt** - ежемесячный долг\n",
    "* **Credit Default** - факт невыполнения кредитных обязательств (0 - погашен вовремя, 1 - просрочка)"
   ]
  },
  {
   "cell_type": "markdown",
   "id": "a9dad5d3",
   "metadata": {},
   "source": [
    "### Подключение библиотек и скриптов"
   ]
  },
  {
   "cell_type": "code",
   "execution_count": 1,
   "id": "7a390221",
   "metadata": {},
   "outputs": [],
   "source": [
    "import pandas as pd\n",
    "import numpy as np\n",
    "\n",
    "from sklearn.model_selection import train_test_split, ShuffleSplit, cross_val_score, learning_curve\n",
    "from sklearn.model_selection import KFold, GridSearchCV, RandomizedSearchCV\n",
    "from sklearn.metrics import classification_report, f1_score, precision_score, recall_score\n",
    "from sklearn.preprocessing import StandardScaler\n",
    "from sklearn.linear_model import LogisticRegression\n",
    "from sklearn.neighbors import KNeighborsClassifier\n",
    "import catboost as catb\n",
    "import lightgbm as lgbm\n",
    "import xgboost as xgb\n",
    "\n",
    "\n",
    "import seaborn as sns\n",
    "from matplotlib import pyplot as plt\n",
    "import scipy.stats as stats\n",
    "%matplotlib inline\n",
    "\n",
    "import warnings\n",
    "warnings.filterwarnings('ignore')"
   ]
  },
  {
   "cell_type": "markdown",
   "id": "dafef417",
   "metadata": {},
   "source": [
    "### Пути к директориям и файлам"
   ]
  },
  {
   "cell_type": "code",
   "execution_count": 2,
   "id": "9c05d67c",
   "metadata": {},
   "outputs": [],
   "source": [
    "TRAIN_DATASET_PATH = 'course_project_train.csv'\n",
    "TEST_DATASET_PATH = 'course_project_test.csv'\n",
    "TARGET_NAME = 'Credit Default'\n",
    "\n",
    "train = pd.read_csv(TRAIN_DATASET_PATH)\n",
    "test = pd.read_csv(TEST_DATASET_PATH)"
   ]
  },
  {
   "cell_type": "code",
   "execution_count": 3,
   "id": "e8144aab",
   "metadata": {},
   "outputs": [
    {
     "data": {
      "text/html": [
       "<div>\n",
       "<style scoped>\n",
       "    .dataframe tbody tr th:only-of-type {\n",
       "        vertical-align: middle;\n",
       "    }\n",
       "\n",
       "    .dataframe tbody tr th {\n",
       "        vertical-align: top;\n",
       "    }\n",
       "\n",
       "    .dataframe thead th {\n",
       "        text-align: right;\n",
       "    }\n",
       "</style>\n",
       "<table border=\"1\" class=\"dataframe\">\n",
       "  <thead>\n",
       "    <tr style=\"text-align: right;\">\n",
       "      <th></th>\n",
       "      <th>Home Ownership</th>\n",
       "      <th>Annual Income</th>\n",
       "      <th>Years in current job</th>\n",
       "      <th>Tax Liens</th>\n",
       "      <th>Number of Open Accounts</th>\n",
       "      <th>Years of Credit History</th>\n",
       "      <th>Maximum Open Credit</th>\n",
       "      <th>Number of Credit Problems</th>\n",
       "      <th>Months since last delinquent</th>\n",
       "      <th>Bankruptcies</th>\n",
       "      <th>Purpose</th>\n",
       "      <th>Term</th>\n",
       "      <th>Current Loan Amount</th>\n",
       "      <th>Current Credit Balance</th>\n",
       "      <th>Monthly Debt</th>\n",
       "      <th>Credit Score</th>\n",
       "      <th>Credit Default</th>\n",
       "    </tr>\n",
       "  </thead>\n",
       "  <tbody>\n",
       "    <tr>\n",
       "      <th>0</th>\n",
       "      <td>Own Home</td>\n",
       "      <td>482087.0</td>\n",
       "      <td>NaN</td>\n",
       "      <td>0.0</td>\n",
       "      <td>11.0</td>\n",
       "      <td>26.3</td>\n",
       "      <td>685960.0</td>\n",
       "      <td>1.0</td>\n",
       "      <td>NaN</td>\n",
       "      <td>1.0</td>\n",
       "      <td>debt consolidation</td>\n",
       "      <td>Short Term</td>\n",
       "      <td>99999999.0</td>\n",
       "      <td>47386.0</td>\n",
       "      <td>7914.0</td>\n",
       "      <td>749.0</td>\n",
       "      <td>0</td>\n",
       "    </tr>\n",
       "    <tr>\n",
       "      <th>1</th>\n",
       "      <td>Own Home</td>\n",
       "      <td>1025487.0</td>\n",
       "      <td>10+ years</td>\n",
       "      <td>0.0</td>\n",
       "      <td>15.0</td>\n",
       "      <td>15.3</td>\n",
       "      <td>1181730.0</td>\n",
       "      <td>0.0</td>\n",
       "      <td>NaN</td>\n",
       "      <td>0.0</td>\n",
       "      <td>debt consolidation</td>\n",
       "      <td>Long Term</td>\n",
       "      <td>264968.0</td>\n",
       "      <td>394972.0</td>\n",
       "      <td>18373.0</td>\n",
       "      <td>737.0</td>\n",
       "      <td>1</td>\n",
       "    </tr>\n",
       "    <tr>\n",
       "      <th>2</th>\n",
       "      <td>Home Mortgage</td>\n",
       "      <td>751412.0</td>\n",
       "      <td>8 years</td>\n",
       "      <td>0.0</td>\n",
       "      <td>11.0</td>\n",
       "      <td>35.0</td>\n",
       "      <td>1182434.0</td>\n",
       "      <td>0.0</td>\n",
       "      <td>NaN</td>\n",
       "      <td>0.0</td>\n",
       "      <td>debt consolidation</td>\n",
       "      <td>Short Term</td>\n",
       "      <td>99999999.0</td>\n",
       "      <td>308389.0</td>\n",
       "      <td>13651.0</td>\n",
       "      <td>742.0</td>\n",
       "      <td>0</td>\n",
       "    </tr>\n",
       "    <tr>\n",
       "      <th>3</th>\n",
       "      <td>Own Home</td>\n",
       "      <td>805068.0</td>\n",
       "      <td>6 years</td>\n",
       "      <td>0.0</td>\n",
       "      <td>8.0</td>\n",
       "      <td>22.5</td>\n",
       "      <td>147400.0</td>\n",
       "      <td>1.0</td>\n",
       "      <td>NaN</td>\n",
       "      <td>1.0</td>\n",
       "      <td>debt consolidation</td>\n",
       "      <td>Short Term</td>\n",
       "      <td>121396.0</td>\n",
       "      <td>95855.0</td>\n",
       "      <td>11338.0</td>\n",
       "      <td>694.0</td>\n",
       "      <td>0</td>\n",
       "    </tr>\n",
       "    <tr>\n",
       "      <th>4</th>\n",
       "      <td>Rent</td>\n",
       "      <td>776264.0</td>\n",
       "      <td>8 years</td>\n",
       "      <td>0.0</td>\n",
       "      <td>13.0</td>\n",
       "      <td>13.6</td>\n",
       "      <td>385836.0</td>\n",
       "      <td>1.0</td>\n",
       "      <td>NaN</td>\n",
       "      <td>0.0</td>\n",
       "      <td>debt consolidation</td>\n",
       "      <td>Short Term</td>\n",
       "      <td>125840.0</td>\n",
       "      <td>93309.0</td>\n",
       "      <td>7180.0</td>\n",
       "      <td>719.0</td>\n",
       "      <td>0</td>\n",
       "    </tr>\n",
       "  </tbody>\n",
       "</table>\n",
       "</div>"
      ],
      "text/plain": [
       "  Home Ownership  Annual Income Years in current job  Tax Liens  \\\n",
       "0       Own Home       482087.0                  NaN        0.0   \n",
       "1       Own Home      1025487.0            10+ years        0.0   \n",
       "2  Home Mortgage       751412.0              8 years        0.0   \n",
       "3       Own Home       805068.0              6 years        0.0   \n",
       "4           Rent       776264.0              8 years        0.0   \n",
       "\n",
       "   Number of Open Accounts  Years of Credit History  Maximum Open Credit  \\\n",
       "0                     11.0                     26.3             685960.0   \n",
       "1                     15.0                     15.3            1181730.0   \n",
       "2                     11.0                     35.0            1182434.0   \n",
       "3                      8.0                     22.5             147400.0   \n",
       "4                     13.0                     13.6             385836.0   \n",
       "\n",
       "   Number of Credit Problems  Months since last delinquent  Bankruptcies  \\\n",
       "0                        1.0                           NaN           1.0   \n",
       "1                        0.0                           NaN           0.0   \n",
       "2                        0.0                           NaN           0.0   \n",
       "3                        1.0                           NaN           1.0   \n",
       "4                        1.0                           NaN           0.0   \n",
       "\n",
       "              Purpose        Term  Current Loan Amount  \\\n",
       "0  debt consolidation  Short Term           99999999.0   \n",
       "1  debt consolidation   Long Term             264968.0   \n",
       "2  debt consolidation  Short Term           99999999.0   \n",
       "3  debt consolidation  Short Term             121396.0   \n",
       "4  debt consolidation  Short Term             125840.0   \n",
       "\n",
       "   Current Credit Balance  Monthly Debt  Credit Score  Credit Default  \n",
       "0                 47386.0        7914.0         749.0               0  \n",
       "1                394972.0       18373.0         737.0               1  \n",
       "2                308389.0       13651.0         742.0               0  \n",
       "3                 95855.0       11338.0         694.0               0  \n",
       "4                 93309.0        7180.0         719.0               0  "
      ]
     },
     "execution_count": 3,
     "metadata": {},
     "output_type": "execute_result"
    }
   ],
   "source": [
    "train.head()"
   ]
  },
  {
   "cell_type": "code",
   "execution_count": 4,
   "id": "c7a75e26",
   "metadata": {},
   "outputs": [
    {
     "data": {
      "text/plain": [
       "(7500, 17)"
      ]
     },
     "execution_count": 4,
     "metadata": {},
     "output_type": "execute_result"
    }
   ],
   "source": [
    "train.shape"
   ]
  },
  {
   "cell_type": "code",
   "execution_count": 5,
   "id": "270b08a1",
   "metadata": {},
   "outputs": [
    {
     "name": "stdout",
     "output_type": "stream",
     "text": [
      "<class 'pandas.core.frame.DataFrame'>\n",
      "RangeIndex: 7500 entries, 0 to 7499\n",
      "Data columns (total 17 columns):\n",
      " #   Column                        Non-Null Count  Dtype  \n",
      "---  ------                        --------------  -----  \n",
      " 0   Home Ownership                7500 non-null   object \n",
      " 1   Annual Income                 5943 non-null   float64\n",
      " 2   Years in current job          7129 non-null   object \n",
      " 3   Tax Liens                     7500 non-null   float64\n",
      " 4   Number of Open Accounts       7500 non-null   float64\n",
      " 5   Years of Credit History       7500 non-null   float64\n",
      " 6   Maximum Open Credit           7500 non-null   float64\n",
      " 7   Number of Credit Problems     7500 non-null   float64\n",
      " 8   Months since last delinquent  3419 non-null   float64\n",
      " 9   Bankruptcies                  7486 non-null   float64\n",
      " 10  Purpose                       7500 non-null   object \n",
      " 11  Term                          7500 non-null   object \n",
      " 12  Current Loan Amount           7500 non-null   float64\n",
      " 13  Current Credit Balance        7500 non-null   float64\n",
      " 14  Monthly Debt                  7500 non-null   float64\n",
      " 15  Credit Score                  5943 non-null   float64\n",
      " 16  Credit Default                7500 non-null   int64  \n",
      "dtypes: float64(12), int64(1), object(4)\n",
      "memory usage: 996.2+ KB\n"
     ]
    }
   ],
   "source": [
    "train.info()"
   ]
  },
  {
   "cell_type": "code",
   "execution_count": 6,
   "id": "3d7db212",
   "metadata": {},
   "outputs": [
    {
     "data": {
      "text/plain": [
       "0    5387\n",
       "1    2113\n",
       "Name: Credit Default, dtype: int64"
      ]
     },
     "execution_count": 6,
     "metadata": {},
     "output_type": "execute_result"
    }
   ],
   "source": [
    "train['Credit Default'].value_counts()"
   ]
  },
  {
   "cell_type": "code",
   "execution_count": 7,
   "id": "6618931d",
   "metadata": {},
   "outputs": [
    {
     "data": {
      "text/plain": [
       "<AxesSubplot:>"
      ]
     },
     "execution_count": 7,
     "metadata": {},
     "output_type": "execute_result"
    },
    {
     "data": {
      "image/png": "[encoded data removed]",
      "text/plain": [
       "<Figure size 432x288 with 1 Axes>"
      ]
     },
     "metadata": {
      "needs_background": "light"
     },
     "output_type": "display_data"
    }
   ],
   "source": [
    "train['Credit Default'].value_counts().plot(kind='bar')"
   ]
  },
  {
   "cell_type": "markdown",
   "id": "49b19b7b",
   "metadata": {},
   "source": [
    "Видно что целевая фича имеет небольшой дисбаланс"
   ]
  },
  {
   "cell_type": "code",
   "execution_count": 8,
   "id": "d7080df5",
   "metadata": {},
   "outputs": [
    {
     "data": {
      "text/html": [
       "<div>\n",
       "<style scoped>\n",
       "    .dataframe tbody tr th:only-of-type {\n",
       "        vertical-align: middle;\n",
       "    }\n",
       "\n",
       "    .dataframe tbody tr th {\n",
       "        vertical-align: top;\n",
       "    }\n",
       "\n",
       "    .dataframe thead th {\n",
       "        text-align: right;\n",
       "    }\n",
       "</style>\n",
       "<table border=\"1\" class=\"dataframe\">\n",
       "  <thead>\n",
       "    <tr style=\"text-align: right;\">\n",
       "      <th></th>\n",
       "      <th>Annual Income</th>\n",
       "      <th>Tax Liens</th>\n",
       "      <th>Number of Open Accounts</th>\n",
       "      <th>Years of Credit History</th>\n",
       "      <th>Maximum Open Credit</th>\n",
       "      <th>Number of Credit Problems</th>\n",
       "      <th>Months since last delinquent</th>\n",
       "      <th>Bankruptcies</th>\n",
       "      <th>Current Loan Amount</th>\n",
       "      <th>Current Credit Balance</th>\n",
       "      <th>Monthly Debt</th>\n",
       "      <th>Credit Score</th>\n",
       "      <th>Credit Default</th>\n",
       "    </tr>\n",
       "  </thead>\n",
       "  <tbody>\n",
       "    <tr>\n",
       "      <th>count</th>\n",
       "      <td>5.943000e+03</td>\n",
       "      <td>7500.000000</td>\n",
       "      <td>7500.000000</td>\n",
       "      <td>7500.000000</td>\n",
       "      <td>7.500000e+03</td>\n",
       "      <td>7500.000000</td>\n",
       "      <td>3419.000000</td>\n",
       "      <td>7486.000000</td>\n",
       "      <td>7.500000e+03</td>\n",
       "      <td>7.500000e+03</td>\n",
       "      <td>7500.000000</td>\n",
       "      <td>5943.000000</td>\n",
       "      <td>7500.000000</td>\n",
       "    </tr>\n",
       "    <tr>\n",
       "      <th>mean</th>\n",
       "      <td>1.366392e+06</td>\n",
       "      <td>0.030133</td>\n",
       "      <td>11.130933</td>\n",
       "      <td>18.317467</td>\n",
       "      <td>9.451537e+05</td>\n",
       "      <td>0.170000</td>\n",
       "      <td>34.692600</td>\n",
       "      <td>0.117152</td>\n",
       "      <td>1.187318e+07</td>\n",
       "      <td>2.898332e+05</td>\n",
       "      <td>18314.454133</td>\n",
       "      <td>1151.087498</td>\n",
       "      <td>0.281733</td>\n",
       "    </tr>\n",
       "    <tr>\n",
       "      <th>std</th>\n",
       "      <td>8.453392e+05</td>\n",
       "      <td>0.271604</td>\n",
       "      <td>4.908924</td>\n",
       "      <td>7.041946</td>\n",
       "      <td>1.602622e+07</td>\n",
       "      <td>0.498598</td>\n",
       "      <td>21.688806</td>\n",
       "      <td>0.347192</td>\n",
       "      <td>3.192612e+07</td>\n",
       "      <td>3.178714e+05</td>\n",
       "      <td>11926.764673</td>\n",
       "      <td>1604.451418</td>\n",
       "      <td>0.449874</td>\n",
       "    </tr>\n",
       "    <tr>\n",
       "      <th>min</th>\n",
       "      <td>1.645970e+05</td>\n",
       "      <td>0.000000</td>\n",
       "      <td>2.000000</td>\n",
       "      <td>4.000000</td>\n",
       "      <td>0.000000e+00</td>\n",
       "      <td>0.000000</td>\n",
       "      <td>0.000000</td>\n",
       "      <td>0.000000</td>\n",
       "      <td>1.124200e+04</td>\n",
       "      <td>0.000000e+00</td>\n",
       "      <td>0.000000</td>\n",
       "      <td>585.000000</td>\n",
       "      <td>0.000000</td>\n",
       "    </tr>\n",
       "    <tr>\n",
       "      <th>25%</th>\n",
       "      <td>8.443410e+05</td>\n",
       "      <td>0.000000</td>\n",
       "      <td>8.000000</td>\n",
       "      <td>13.500000</td>\n",
       "      <td>2.792295e+05</td>\n",
       "      <td>0.000000</td>\n",
       "      <td>16.000000</td>\n",
       "      <td>0.000000</td>\n",
       "      <td>1.801690e+05</td>\n",
       "      <td>1.142565e+05</td>\n",
       "      <td>10067.500000</td>\n",
       "      <td>711.000000</td>\n",
       "      <td>0.000000</td>\n",
       "    </tr>\n",
       "    <tr>\n",
       "      <th>50%</th>\n",
       "      <td>1.168386e+06</td>\n",
       "      <td>0.000000</td>\n",
       "      <td>10.000000</td>\n",
       "      <td>17.000000</td>\n",
       "      <td>4.781590e+05</td>\n",
       "      <td>0.000000</td>\n",
       "      <td>32.000000</td>\n",
       "      <td>0.000000</td>\n",
       "      <td>3.095730e+05</td>\n",
       "      <td>2.093230e+05</td>\n",
       "      <td>16076.500000</td>\n",
       "      <td>731.000000</td>\n",
       "      <td>0.000000</td>\n",
       "    </tr>\n",
       "    <tr>\n",
       "      <th>75%</th>\n",
       "      <td>1.640137e+06</td>\n",
       "      <td>0.000000</td>\n",
       "      <td>14.000000</td>\n",
       "      <td>21.800000</td>\n",
       "      <td>7.935015e+05</td>\n",
       "      <td>0.000000</td>\n",
       "      <td>50.000000</td>\n",
       "      <td>0.000000</td>\n",
       "      <td>5.198820e+05</td>\n",
       "      <td>3.604062e+05</td>\n",
       "      <td>23818.000000</td>\n",
       "      <td>743.000000</td>\n",
       "      <td>1.000000</td>\n",
       "    </tr>\n",
       "    <tr>\n",
       "      <th>max</th>\n",
       "      <td>1.014934e+07</td>\n",
       "      <td>7.000000</td>\n",
       "      <td>43.000000</td>\n",
       "      <td>57.700000</td>\n",
       "      <td>1.304726e+09</td>\n",
       "      <td>7.000000</td>\n",
       "      <td>118.000000</td>\n",
       "      <td>4.000000</td>\n",
       "      <td>1.000000e+08</td>\n",
       "      <td>6.506797e+06</td>\n",
       "      <td>136679.000000</td>\n",
       "      <td>7510.000000</td>\n",
       "      <td>1.000000</td>\n",
       "    </tr>\n",
       "  </tbody>\n",
       "</table>\n",
       "</div>"
      ],
      "text/plain": [
       "       Annual Income    Tax Liens  Number of Open Accounts  \\\n",
       "count   5.943000e+03  7500.000000              7500.000000   \n",
       "mean    1.366392e+06     0.030133                11.130933   \n",
       "std     8.453392e+05     0.271604                 4.908924   \n",
       "min     1.645970e+05     0.000000                 2.000000   \n",
       "25%     8.443410e+05     0.000000                 8.000000   \n",
       "50%     1.168386e+06     0.000000                10.000000   \n",
       "75%     1.640137e+06     0.000000                14.000000   \n",
       "max     1.014934e+07     7.000000                43.000000   \n",
       "\n",
       "       Years of Credit History  Maximum Open Credit  \\\n",
       "count              7500.000000         7.500000e+03   \n",
       "mean                 18.317467         9.451537e+05   \n",
       "std                   7.041946         1.602622e+07   \n",
       "min                   4.000000         0.000000e+00   \n",
       "25%                  13.500000         2.792295e+05   \n",
       "50%                  17.000000         4.781590e+05   \n",
       "75%                  21.800000         7.935015e+05   \n",
       "max                  57.700000         1.304726e+09   \n",
       "\n",
       "       Number of Credit Problems  Months since last delinquent  Bankruptcies  \\\n",
       "count                7500.000000                   3419.000000   7486.000000   \n",
       "mean                    0.170000                     34.692600      0.117152   \n",
       "std                     0.498598                     21.688806      0.347192   \n",
       "min                     0.000000                      0.000000      0.000000   \n",
       "25%                     0.000000                     16.000000      0.000000   \n",
       "50%                     0.000000                     32.000000      0.000000   \n",
       "75%                     0.000000                     50.000000      0.000000   \n",
       "max                     7.000000                    118.000000      4.000000   \n",
       "\n",
       "       Current Loan Amount  Current Credit Balance   Monthly Debt  \\\n",
       "count         7.500000e+03            7.500000e+03    7500.000000   \n",
       "mean          1.187318e+07            2.898332e+05   18314.454133   \n",
       "std           3.192612e+07            3.178714e+05   11926.764673   \n",
       "min           1.124200e+04            0.000000e+00       0.000000   \n",
       "25%           1.801690e+05            1.142565e+05   10067.500000   \n",
       "50%           3.095730e+05            2.093230e+05   16076.500000   \n",
       "75%           5.198820e+05            3.604062e+05   23818.000000   \n",
       "max           1.000000e+08            6.506797e+06  136679.000000   \n",
       "\n",
       "       Credit Score  Credit Default  \n",
       "count   5943.000000     7500.000000  \n",
       "mean    1151.087498        0.281733  \n",
       "std     1604.451418        0.449874  \n",
       "min      585.000000        0.000000  \n",
       "25%      711.000000        0.000000  \n",
       "50%      731.000000        0.000000  \n",
       "75%      743.000000        1.000000  \n",
       "max     7510.000000        1.000000  "
      ]
     },
     "execution_count": 8,
     "metadata": {},
     "output_type": "execute_result"
    }
   ],
   "source": [
    "train.describe()"
   ]
  },
  {
   "cell_type": "code",
   "execution_count": 9,
   "id": "be574e91",
   "metadata": {},
   "outputs": [
    {
     "data": {
      "text/html": [
       "<div>\n",
       "<style scoped>\n",
       "    .dataframe tbody tr th:only-of-type {\n",
       "        vertical-align: middle;\n",
       "    }\n",
       "\n",
       "    .dataframe tbody tr th {\n",
       "        vertical-align: top;\n",
       "    }\n",
       "\n",
       "    .dataframe thead th {\n",
       "        text-align: right;\n",
       "    }\n",
       "</style>\n",
       "<table border=\"1\" class=\"dataframe\">\n",
       "  <thead>\n",
       "    <tr style=\"text-align: right;\">\n",
       "      <th></th>\n",
       "      <th>Home Ownership</th>\n",
       "      <th>Annual Income</th>\n",
       "      <th>Years in current job</th>\n",
       "      <th>Tax Liens</th>\n",
       "      <th>Number of Open Accounts</th>\n",
       "      <th>Years of Credit History</th>\n",
       "      <th>Maximum Open Credit</th>\n",
       "      <th>Number of Credit Problems</th>\n",
       "      <th>Months since last delinquent</th>\n",
       "      <th>Bankruptcies</th>\n",
       "      <th>Purpose</th>\n",
       "      <th>Term</th>\n",
       "      <th>Current Loan Amount</th>\n",
       "      <th>Current Credit Balance</th>\n",
       "      <th>Monthly Debt</th>\n",
       "      <th>Credit Score</th>\n",
       "    </tr>\n",
       "  </thead>\n",
       "  <tbody>\n",
       "    <tr>\n",
       "      <th>0</th>\n",
       "      <td>Rent</td>\n",
       "      <td>NaN</td>\n",
       "      <td>4 years</td>\n",
       "      <td>0.0</td>\n",
       "      <td>9.0</td>\n",
       "      <td>12.5</td>\n",
       "      <td>220968.0</td>\n",
       "      <td>0.0</td>\n",
       "      <td>70.0</td>\n",
       "      <td>0.0</td>\n",
       "      <td>debt consolidation</td>\n",
       "      <td>Short Term</td>\n",
       "      <td>162470.0</td>\n",
       "      <td>105906.0</td>\n",
       "      <td>6813.0</td>\n",
       "      <td>NaN</td>\n",
       "    </tr>\n",
       "    <tr>\n",
       "      <th>1</th>\n",
       "      <td>Rent</td>\n",
       "      <td>231838.0</td>\n",
       "      <td>1 year</td>\n",
       "      <td>0.0</td>\n",
       "      <td>6.0</td>\n",
       "      <td>32.7</td>\n",
       "      <td>55946.0</td>\n",
       "      <td>0.0</td>\n",
       "      <td>8.0</td>\n",
       "      <td>0.0</td>\n",
       "      <td>educational expenses</td>\n",
       "      <td>Short Term</td>\n",
       "      <td>78298.0</td>\n",
       "      <td>46037.0</td>\n",
       "      <td>2318.0</td>\n",
       "      <td>699.0</td>\n",
       "    </tr>\n",
       "    <tr>\n",
       "      <th>2</th>\n",
       "      <td>Home Mortgage</td>\n",
       "      <td>1152540.0</td>\n",
       "      <td>3 years</td>\n",
       "      <td>0.0</td>\n",
       "      <td>10.0</td>\n",
       "      <td>13.7</td>\n",
       "      <td>204600.0</td>\n",
       "      <td>0.0</td>\n",
       "      <td>NaN</td>\n",
       "      <td>0.0</td>\n",
       "      <td>debt consolidation</td>\n",
       "      <td>Short Term</td>\n",
       "      <td>200178.0</td>\n",
       "      <td>146490.0</td>\n",
       "      <td>18729.0</td>\n",
       "      <td>7260.0</td>\n",
       "    </tr>\n",
       "    <tr>\n",
       "      <th>3</th>\n",
       "      <td>Home Mortgage</td>\n",
       "      <td>1220313.0</td>\n",
       "      <td>10+ years</td>\n",
       "      <td>0.0</td>\n",
       "      <td>16.0</td>\n",
       "      <td>17.0</td>\n",
       "      <td>456302.0</td>\n",
       "      <td>0.0</td>\n",
       "      <td>70.0</td>\n",
       "      <td>0.0</td>\n",
       "      <td>debt consolidation</td>\n",
       "      <td>Short Term</td>\n",
       "      <td>217382.0</td>\n",
       "      <td>213199.0</td>\n",
       "      <td>27559.0</td>\n",
       "      <td>739.0</td>\n",
       "    </tr>\n",
       "    <tr>\n",
       "      <th>4</th>\n",
       "      <td>Home Mortgage</td>\n",
       "      <td>2340952.0</td>\n",
       "      <td>6 years</td>\n",
       "      <td>0.0</td>\n",
       "      <td>11.0</td>\n",
       "      <td>23.6</td>\n",
       "      <td>1207272.0</td>\n",
       "      <td>0.0</td>\n",
       "      <td>NaN</td>\n",
       "      <td>0.0</td>\n",
       "      <td>debt consolidation</td>\n",
       "      <td>Long Term</td>\n",
       "      <td>777634.0</td>\n",
       "      <td>425391.0</td>\n",
       "      <td>42605.0</td>\n",
       "      <td>706.0</td>\n",
       "    </tr>\n",
       "  </tbody>\n",
       "</table>\n",
       "</div>"
      ],
      "text/plain": [
       "  Home Ownership  Annual Income Years in current job  Tax Liens  \\\n",
       "0           Rent            NaN              4 years        0.0   \n",
       "1           Rent       231838.0               1 year        0.0   \n",
       "2  Home Mortgage      1152540.0              3 years        0.0   \n",
       "3  Home Mortgage      1220313.0            10+ years        0.0   \n",
       "4  Home Mortgage      2340952.0              6 years        0.0   \n",
       "\n",
       "   Number of Open Accounts  Years of Credit History  Maximum Open Credit  \\\n",
       "0                      9.0                     12.5             220968.0   \n",
       "1                      6.0                     32.7              55946.0   \n",
       "2                     10.0                     13.7             204600.0   \n",
       "3                     16.0                     17.0             456302.0   \n",
       "4                     11.0                     23.6            1207272.0   \n",
       "\n",
       "   Number of Credit Problems  Months since last delinquent  Bankruptcies  \\\n",
       "0                        0.0                          70.0           0.0   \n",
       "1                        0.0                           8.0           0.0   \n",
       "2                        0.0                           NaN           0.0   \n",
       "3                        0.0                          70.0           0.0   \n",
       "4                        0.0                           NaN           0.0   \n",
       "\n",
       "                Purpose        Term  Current Loan Amount  \\\n",
       "0    debt consolidation  Short Term             162470.0   \n",
       "1  educational expenses  Short Term              78298.0   \n",
       "2    debt consolidation  Short Term             200178.0   \n",
       "3    debt consolidation  Short Term             217382.0   \n",
       "4    debt consolidation   Long Term             777634.0   \n",
       "\n",
       "   Current Credit Balance  Monthly Debt  Credit Score  \n",
       "0                105906.0        6813.0           NaN  \n",
       "1                 46037.0        2318.0         699.0  \n",
       "2                146490.0       18729.0        7260.0  \n",
       "3                213199.0       27559.0         739.0  \n",
       "4                425391.0       42605.0         706.0  "
      ]
     },
     "execution_count": 9,
     "metadata": {},
     "output_type": "execute_result"
    }
   ],
   "source": [
    "test.head()"
   ]
  },
  {
   "cell_type": "code",
   "execution_count": 10,
   "id": "04616d4a",
   "metadata": {},
   "outputs": [
    {
     "data": {
      "text/plain": [
       "(2500, 16)"
      ]
     },
     "execution_count": 10,
     "metadata": {},
     "output_type": "execute_result"
    }
   ],
   "source": [
    "test.shape"
   ]
  },
  {
   "cell_type": "code",
   "execution_count": 11,
   "id": "52916631",
   "metadata": {},
   "outputs": [
    {
     "name": "stdout",
     "output_type": "stream",
     "text": [
      "<class 'pandas.core.frame.DataFrame'>\n",
      "RangeIndex: 2500 entries, 0 to 2499\n",
      "Data columns (total 16 columns):\n",
      " #   Column                        Non-Null Count  Dtype  \n",
      "---  ------                        --------------  -----  \n",
      " 0   Home Ownership                2500 non-null   object \n",
      " 1   Annual Income                 1987 non-null   float64\n",
      " 2   Years in current job          2414 non-null   object \n",
      " 3   Tax Liens                     2500 non-null   float64\n",
      " 4   Number of Open Accounts       2500 non-null   float64\n",
      " 5   Years of Credit History       2500 non-null   float64\n",
      " 6   Maximum Open Credit           2500 non-null   float64\n",
      " 7   Number of Credit Problems     2500 non-null   float64\n",
      " 8   Months since last delinquent  1142 non-null   float64\n",
      " 9   Bankruptcies                  2497 non-null   float64\n",
      " 10  Purpose                       2500 non-null   object \n",
      " 11  Term                          2500 non-null   object \n",
      " 12  Current Loan Amount           2500 non-null   float64\n",
      " 13  Current Credit Balance        2500 non-null   float64\n",
      " 14  Monthly Debt                  2500 non-null   float64\n",
      " 15  Credit Score                  1987 non-null   float64\n",
      "dtypes: float64(12), object(4)\n",
      "memory usage: 312.6+ KB\n"
     ]
    }
   ],
   "source": [
    "test.info()"
   ]
  },
  {
   "cell_type": "markdown",
   "id": "45857e4b",
   "metadata": {},
   "source": [
    "### Анализ пропусков и выбросов"
   ]
  },
  {
   "cell_type": "markdown",
   "id": "c95ec4d8",
   "metadata": {},
   "source": [
    "Напишем дополнительные классы и методы"
   ]
  },
  {
   "cell_type": "code",
   "execution_count": 12,
   "id": "c092e1f1",
   "metadata": {},
   "outputs": [],
   "source": [
    "class ControllerPrepare:\n",
    "    def __init__(self):\n",
    "        self.default_Annual_Income = None\n",
    "        self.default_Maximum_Open_Credit = None\n",
    "        self.default_Years_in_current_job = None\n",
    "        self.out_quan_Annual_Income = None\n",
    "        self.out_quan_Maximum_Open_Credit = None\n",
    "        self.Bankruptcies = None\n",
    "        self.mean_Credit_Score = None\n",
    "        self.out_quan_Credit_Score = None\n",
    "        \n",
    "    \n",
    "    def get_info_from_train(self, df):\n",
    "        #получаем среднее значение без выбросов\n",
    "        self.default_Annual_Income = df['Annual Income'].mean()\n",
    "        self.default_Maximum_Open_Credit = df['Maximum Open Credit'].mean()\n",
    "        self.default_Years_in_current_job = df['Years in current job'].mode()[0]\n",
    "        self.out_quan_Annual_Income = df['Annual Income'].quantile(0.995)\n",
    "        self.out_quan_Maximum_Open_Credit = df['Maximum Open Credit'].quantile(0.995)\n",
    "        self.Bankruptcies = df['Bankruptcies'].mode()[0]\n",
    "        self.mean_Credit_Score = df['Credit Score'].mean()\n",
    "        self.out_quan_Credit_Score = df['Credit Score'].quantile(0.995)\n",
    "        \n",
    "        return df\n",
    "    \n",
    "    def prepare(self, df):\n",
    "        df = self.to_hot_cat(df)\n",
    "        df = self.fillna_Annual_Income(df)\n",
    "        df = self.fillna_Maximum_Open_Credit(df)\n",
    "        df = self.fillna_Years_in_current_job(df)\n",
    "        df = self.filna_Bankruptcies(df)\n",
    "        df = self.fillna_Credit_Score(df)\n",
    "        return df\n",
    "    \n",
    "    def to_hot_cat(self, df):\n",
    "        df['Tax Liens'] = df['Tax Liens'].astype('int32')\n",
    "        col_to_cat = ['Home Ownership', 'Tax Liens','Term', 'Purpose']\n",
    "        for column_name in col_to_cat:\n",
    "            df[column_name] = df[column_name].astype('category')\n",
    "        return df\n",
    "    \n",
    "    def fillna_Annual_Income(self, df):\n",
    "        df['Annual Income'] = df['Annual Income'].fillna(self.default_Annual_Income)\n",
    "        df.loc[df['Annual Income'] > self.out_quan_Annual_Income, 'Annual Income'] = self.default_Annual_Income \n",
    "        return df\n",
    "    \n",
    "    def fillna_Maximum_Open_Credit(self, df):\n",
    "        df['Maximum Open Credit'] = df['Maximum Open Credit'].fillna(self.default_Maximum_Open_Credit)\n",
    "        df.loc[df['Maximum Open Credit'] > self.out_quan_Maximum_Open_Credit, 'Maximum Open Credit'] = self.default_Maximum_Open_Credit\n",
    "        return df\n",
    "    \n",
    "    def fillna_Years_in_current_job(self, df):\n",
    "        df['Years in current job'] = df['Years in current job'].fillna(self.default_Years_in_current_job)\n",
    "        df['Years in current job'] = df['Years in current job'].astype('category')\n",
    "        return df\n",
    "    \n",
    "    def filna_Bankruptcies(self,df):\n",
    "        df['Bankruptcies'] = df['Bankruptcies'].fillna(self.Bankruptcies)\n",
    "        return df\n",
    "    \n",
    "    def fillna_Credit_Score(self, df):\n",
    "        df['Credit Score'] = df['Credit Score'].fillna(self.mean_Credit_Score)\n",
    "        df.loc[df['Credit Score'] > self.out_quan_Credit_Score, 'Credit Score'] = self.mean_Credit_Score\n",
    "        return df\n",
    "    \n",
    "    def get_and_prepare(self, df):\n",
    "        self.get_info_from_train(df)\n",
    "        self.prepare(df)\n",
    "        return df\n",
    "        \n",
    "    def normalize(self, df, feats):\n",
    "        scaler = StandardScaler()\n",
    "\n",
    "        df_norm = df.copy()\n",
    "        df_norm[feats] = scaler.fit_transform(df_norm[feats])\n",
    "\n",
    "        return df_norm.copy()\n",
    "    \n",
    "def info_dataset(df, name_dataset):\n",
    "    spam = ''\n",
    "    print(f'Dataset:{name_dataset}')\n",
    "    print(f'Название {spam:21}|Всего |Null-значений |Уникальных значений |Тип')\n",
    "    for column_name in df.columns:\n",
    "        all_count =  len(df[column_name])\n",
    "        null_count = sum(df[column_name].isnull())\n",
    "        unique_count = df[column_name].unique().size\n",
    "        print(f'{column_name:30}|{all_count:6}|{null_count:14}|{unique_count:20}|{df[column_name].dtype}')\n",
    "    print('-'*100)\n",
    "    \n",
    "def balance_df_by_target(df, target_name):\n",
    "\n",
    "    target_counts = df[target_name].value_counts()\n",
    "\n",
    "    major_class_name = target_counts.argmax()\n",
    "    minor_class_name = target_counts.argmin()\n",
    "\n",
    "    disbalance_coeff = int(target_counts[major_class_name] / target_counts[minor_class_name]) - 1\n",
    "\n",
    "    for i in range(disbalance_coeff):\n",
    "        sample = df[df[target_name] == minor_class_name].sample(target_counts[minor_class_name])\n",
    "        df = df.append(sample, ignore_index=True)\n",
    "\n",
    "    return df.sample(frac=1)\n",
    "\n",
    "\n",
    "\n",
    "cprepare = ControllerPrepare()"
   ]
  },
  {
   "cell_type": "code",
   "execution_count": 13,
   "id": "7a2fefd8",
   "metadata": {},
   "outputs": [],
   "source": [
    "def get_classification_report(y_train_true, y_train_pred, y_test_true, y_test_pred):\n",
    "    print('TRAIN\\n\\n' + classification_report(y_train_true, y_train_pred))\n",
    "    print('VALID\\n\\n' + classification_report(y_test_true, y_test_pred))\n",
    "    print('CONFUSION MATRIX\\n')\n",
    "    print(pd.crosstab(y_test_true, y_test_pred))\n",
    "\n",
    "def show_learning_curve_plot(estimator, X, y, cv=3, n_jobs=-1, train_sizes=np.linspace(.1, 1.0, 5)):\n",
    "\n",
    "    train_sizes, train_scores, test_scores = learning_curve(estimator, X, y, \n",
    "                                                            cv=cv, \n",
    "                                                            scoring='f1',\n",
    "                                                            train_sizes=train_sizes, \n",
    "                                                            n_jobs=n_jobs)\n",
    "    train_scores_mean = np.mean(train_scores, axis=1)\n",
    "    train_scores_std = np.std(train_scores, axis=1)\n",
    "    test_scores_mean = np.mean(test_scores, axis=1)\n",
    "    test_scores_std = np.std(test_scores, axis=1)\n",
    "\n",
    "    plt.figure(figsize=(15,8))\n",
    "    plt.fill_between(train_sizes, train_scores_mean - train_scores_std,\n",
    "                     train_scores_mean + train_scores_std, alpha=0.1, color=\"r\")\n",
    "    plt.fill_between(train_sizes, test_scores_mean - test_scores_std,\n",
    "                     test_scores_mean + test_scores_std, alpha=0.1, color=\"g\")\n",
    "    plt.plot(train_sizes, train_scores_mean, 'o-', color=\"r\",\n",
    "             label=\"Training score\")\n",
    "    plt.plot(train_sizes, test_scores_mean, 'o-', color=\"g\",\n",
    "             label=\"Cross-validation score\")\n",
    "\n",
    "    plt.title(f\"Learning curves ({type(estimator).__name__})\")\n",
    "    plt.xlabel(\"Training examples\")\n",
    "    plt.ylabel(\"Score\")     \n",
    "    plt.legend(loc=\"best\")\n",
    "    plt.grid()\n",
    "    plt.show()\n",
    "    \n",
    "def show_feature_importances(feature_names, feature_importances, get_top=None):\n",
    "    feature_importances = pd.DataFrame({'feature': feature_names, 'importance': feature_importances})\n",
    "    feature_importances = feature_importances.sort_values('importance', ascending=False)\n",
    "       \n",
    "    plt.figure(figsize = (20, len(feature_importances) * 0.355))\n",
    "    \n",
    "    sns.barplot(feature_importances['importance'], feature_importances['feature'])\n",
    "    \n",
    "    plt.xlabel('Importance')\n",
    "    plt.title('Importance of features')\n",
    "    plt.show()\n",
    "    \n",
    "    if get_top is not None:\n",
    "        return feature_importances['feature'][:get_top].tolist()\n",
    "    \n",
    "def show_proba_calibration_plots(y_predicted_probs, y_true_labels):\n",
    "    preds_with_true_labels = np.array(list(zip(y_predicted_probs, y_true_labels)))\n",
    "\n",
    "    thresholds = []\n",
    "    precisions = []\n",
    "    recalls = []\n",
    "    f1_scores = []\n",
    "\n",
    "    for threshold in np.linspace(0.1, 0.9, 9):\n",
    "        thresholds.append(threshold)\n",
    "        precisions.append(precision_score(y_true_labels, list(map(int, y_predicted_probs > threshold))))\n",
    "        recalls.append(recall_score(y_true_labels, list(map(int, y_predicted_probs > threshold))))\n",
    "        f1_scores.append(f1_score(y_true_labels, list(map(int, y_predicted_probs > threshold))))\n",
    "\n",
    "    scores_table = pd.DataFrame({'f1':f1_scores,\n",
    "                                 'precision':precisions,\n",
    "                                 'recall':recalls,\n",
    "                                 'probability':thresholds}).sort_values('f1', ascending=False).round(3)\n",
    "  \n",
    "    figure = plt.figure(figsize = (15, 5))\n",
    "\n",
    "    plt1 = figure.add_subplot(121)\n",
    "    plt1.plot(thresholds, precisions, label='Precision', linewidth=4)\n",
    "    plt1.plot(thresholds, recalls, label='Recall', linewidth=4)\n",
    "    plt1.plot(thresholds, f1_scores, label='F1', linewidth=4)\n",
    "    plt1.set_ylabel('Scores')\n",
    "    plt1.set_xlabel('Probability threshold')\n",
    "    plt1.set_title('Probabilities threshold calibration')\n",
    "    plt1.legend(bbox_to_anchor=(0.25, 0.25))   \n",
    "    plt1.table(cellText = scores_table.values,\n",
    "               colLabels = scores_table.columns, \n",
    "               colLoc = 'center', cellLoc = 'center', loc = 'bottom', bbox = [0, -1.3, 1, 1])\n",
    "\n",
    "    plt2 = figure.add_subplot(122)\n",
    "    plt2.hist(preds_with_true_labels[preds_with_true_labels[:, 1] == 0][:, 0], \n",
    "              label='Another class', color='royalblue', alpha=1)\n",
    "    plt2.hist(preds_with_true_labels[preds_with_true_labels[:, 1] == 1][:, 0], \n",
    "              label='Main class', color='darkcyan', alpha=0.8)\n",
    "    plt2.set_ylabel('Number of examples')\n",
    "    plt2.set_xlabel('Probabilities')\n",
    "    plt2.set_title('Probability histogram')\n",
    "    plt2.legend(bbox_to_anchor=(1, 1))\n",
    "\n",
    "    plt.show()"
   ]
  },
  {
   "cell_type": "code",
   "execution_count": 14,
   "id": "8b72af9a",
   "metadata": {},
   "outputs": [
    {
     "name": "stdout",
     "output_type": "stream",
     "text": [
      "Dataset:train\n",
      "Название                      |Всего |Null-значений |Уникальных значений |Тип\n",
      "Home Ownership                |  7500|             0|                   4|object\n",
      "Annual Income                 |  7500|          1557|                5479|float64\n",
      "Years in current job          |  7500|           371|                  12|object\n",
      "Tax Liens                     |  7500|             0|                   8|float64\n",
      "Number of Open Accounts       |  7500|             0|                  39|float64\n",
      "Years of Credit History       |  7500|             0|                 408|float64\n",
      "Maximum Open Credit           |  7500|             0|                6963|float64\n",
      "Number of Credit Problems     |  7500|             0|                   8|float64\n",
      "Months since last delinquent  |  7500|          4081|                  90|float64\n",
      "Bankruptcies                  |  7500|            14|                   6|float64\n",
      "Purpose                       |  7500|             0|                  15|object\n",
      "Term                          |  7500|             0|                   2|object\n",
      "Current Loan Amount           |  7500|             0|                5386|float64\n",
      "Current Credit Balance        |  7500|             0|                6592|float64\n",
      "Monthly Debt                  |  7500|             0|                6716|float64\n",
      "Credit Score                  |  7500|          1557|                 269|float64\n",
      "Credit Default                |  7500|             0|                   2|int64\n",
      "----------------------------------------------------------------------------------------------------\n",
      "Dataset:test\n",
      "Название                      |Всего |Null-значений |Уникальных значений |Тип\n",
      "Home Ownership                |  2500|             0|                   4|object\n",
      "Annual Income                 |  2500|           513|                1930|float64\n",
      "Years in current job          |  2500|            86|                  12|object\n",
      "Tax Liens                     |  2500|             0|                   8|float64\n",
      "Number of Open Accounts       |  2500|             0|                  35|float64\n",
      "Years of Credit History       |  2500|             0|                 345|float64\n",
      "Maximum Open Credit           |  2500|             0|                2435|float64\n",
      "Number of Credit Problems     |  2500|             0|                   8|float64\n",
      "Months since last delinquent  |  2500|          1358|                  84|float64\n",
      "Bankruptcies                  |  2500|             3|                   7|float64\n",
      "Purpose                       |  2500|             0|                  14|object\n",
      "Term                          |  2500|             0|                   2|object\n",
      "Current Loan Amount           |  2500|             0|                2026|float64\n",
      "Current Credit Balance        |  2500|             0|                2385|float64\n",
      "Monthly Debt                  |  2500|             0|                2416|float64\n",
      "Credit Score                  |  2500|           513|                 212|float64\n",
      "----------------------------------------------------------------------------------------------------\n"
     ]
    }
   ],
   "source": [
    "info_dataset(train, 'train')\n",
    "info_dataset(test, 'test')"
   ]
  },
  {
   "cell_type": "markdown",
   "id": "40a6ea0b",
   "metadata": {},
   "source": [
    "### Категориальные признаки"
   ]
  },
  {
   "cell_type": "markdown",
   "id": "2e39df62",
   "metadata": {},
   "source": [
    "К категориальным признакам исходя из описания, типа, количества и значений относятся однозначно:\n",
    "\n",
    "* Home Ownership\n",
    "* Tax Liens\n",
    "* Purpose\n",
    "* Term"
   ]
  },
  {
   "cell_type": "code",
   "execution_count": 15,
   "id": "59a28966",
   "metadata": {},
   "outputs": [],
   "source": [
    "CAT_FEATURE_NAMES = ['Home Ownership', 'Tax Liens', 'Purpose', 'Term']"
   ]
  },
  {
   "cell_type": "code",
   "execution_count": 16,
   "id": "0d357ad0",
   "metadata": {},
   "outputs": [
    {
     "data": {
      "text/plain": [
       "Home Ownership    category\n",
       "Tax Liens         category\n",
       "Purpose           category\n",
       "Term              category\n",
       "dtype: object"
      ]
     },
     "execution_count": 16,
     "metadata": {},
     "output_type": "execute_result"
    }
   ],
   "source": [
    "train['Tax Liens'] = train['Tax Liens'].astype('int32')\n",
    "col_to_cat = ['Home Ownership', 'Tax Liens','Term', 'Purpose']\n",
    "for column_name in col_to_cat:\n",
    "    train[column_name] = train[column_name].astype('category')\n",
    "    \n",
    "train[CAT_FEATURE_NAMES].dtypes"
   ]
  },
  {
   "cell_type": "markdown",
   "id": "74d25ea1",
   "metadata": {},
   "source": [
    "### Числовые признаки "
   ]
  },
  {
   "cell_type": "markdown",
   "id": "e276bee9",
   "metadata": {},
   "source": [
    "#### Annual Income - годовой доход"
   ]
  },
  {
   "cell_type": "code",
   "execution_count": 17,
   "id": "d0c24753",
   "metadata": {},
   "outputs": [
    {
     "data": {
      "image/png": "[encoded data removed]",
      "text/plain": [
       "<Figure size 432x288 with 1 Axes>"
      ]
     },
     "metadata": {
      "needs_background": "light"
     },
     "output_type": "display_data"
    }
   ],
   "source": [
    "train[train['Annual Income'].notnull()]['Annual Income'].apply(np.log).hist(bins=20)\n",
    "plt.show()"
   ]
  },
  {
   "cell_type": "code",
   "execution_count": 18,
   "id": "f5f09d64",
   "metadata": {},
   "outputs": [
    {
     "data": {
      "text/plain": [
       "((array([-3.67998084, -3.44731998, -3.31922171, ...,  3.31922171,\n",
       "          3.44731998,  3.67998084]),\n",
       "  array([12.01125534, 12.0773582 , 12.08532209, ..., 16.00423735,\n",
       "         16.04969689, 16.13291963])),\n",
       " (0.5213154415003349, 13.985768875812159, 0.9974228009115517))"
      ]
     },
     "execution_count": 18,
     "metadata": {},
     "output_type": "execute_result"
    },
    {
     "data": {
      "image/png": "[encoded data removed]",
      "text/plain": [
       "<Figure size 432x288 with 1 Axes>"
      ]
     },
     "metadata": {
      "needs_background": "light"
     },
     "output_type": "display_data"
    }
   ],
   "source": [
    "stats.probplot(train[train['Annual Income'].notnull()]['Annual Income'].apply(np.log), dist=\"norm\", plot=plt)"
   ]
  },
  {
   "cell_type": "markdown",
   "id": "6f688a07",
   "metadata": {},
   "source": [
    "Признак имеет выбросы и нулевые значение. Заменим их средним."
   ]
  },
  {
   "cell_type": "markdown",
   "id": "924db357",
   "metadata": {},
   "source": [
    "#### Years in current job - количество лет на текущем месте работы"
   ]
  },
  {
   "cell_type": "code",
   "execution_count": 19,
   "id": "68413f7c",
   "metadata": {},
   "outputs": [
    {
     "data": {
      "text/plain": [
       "array([nan, '10+ years', '8 years', '6 years', '7 years', '5 years',\n",
       "       '1 year', '< 1 year', '4 years', '3 years', '2 years', '9 years'],\n",
       "      dtype=object)"
      ]
     },
     "execution_count": 19,
     "metadata": {},
     "output_type": "execute_result"
    }
   ],
   "source": [
    "train['Years in current job'].unique()"
   ]
  },
  {
   "cell_type": "code",
   "execution_count": 20,
   "id": "1e828e30",
   "metadata": {},
   "outputs": [
    {
     "data": {
      "text/plain": [
       "<AxesSubplot:xlabel='Years in current job', ylabel='count'>"
      ]
     },
     "execution_count": 20,
     "metadata": {},
     "output_type": "execute_result"
    },
    {
     "data": {
      "image/png": "[encoded data removed]",
      "text/plain": [
       "<Figure size 720x432 with 1 Axes>"
      ]
     },
     "metadata": {
      "needs_background": "light"
     },
     "output_type": "display_data"
    }
   ],
   "source": [
    "plt.figure(figsize=(10,6))\n",
    "sns.countplot(train['Years in current job'])"
   ]
  },
  {
   "cell_type": "markdown",
   "id": "c3624ae3",
   "metadata": {},
   "source": [
    "Так же заменим пропуски средним значением"
   ]
  },
  {
   "cell_type": "markdown",
   "id": "efa266c6",
   "metadata": {},
   "source": [
    "#### Maximum Open Credit - наибольший открытый кредит"
   ]
  },
  {
   "cell_type": "code",
   "execution_count": 21,
   "id": "2ca3c1b5",
   "metadata": {},
   "outputs": [
    {
     "data": {
      "text/plain": [
       "count    7.500000e+03\n",
       "mean     9.451537e+05\n",
       "std      1.602622e+07\n",
       "min      0.000000e+00\n",
       "25%      2.792295e+05\n",
       "50%      4.781590e+05\n",
       "75%      7.935015e+05\n",
       "max      1.304726e+09\n",
       "Name: Maximum Open Credit, dtype: float64"
      ]
     },
     "execution_count": 21,
     "metadata": {},
     "output_type": "execute_result"
    }
   ],
   "source": [
    "train['Maximum Open Credit'].describe()"
   ]
  },
  {
   "cell_type": "code",
   "execution_count": 22,
   "id": "cb0c643d",
   "metadata": {},
   "outputs": [
    {
     "name": "stdout",
     "output_type": "stream",
     "text": [
      "0.0005333333333333334\n"
     ]
    }
   ],
   "source": [
    "dx = train[(np.abs(stats.zscore(train['Maximum Open Credit'])) > 3)]\n",
    "print(dx.shape[0]/train.shape[0])"
   ]
  },
  {
   "cell_type": "markdown",
   "id": "aa7114a9",
   "metadata": {},
   "source": [
    "#### Months since last delinquent - количество месяцев с последней просрочки платежа"
   ]
  },
  {
   "cell_type": "markdown",
   "id": "2e95a372",
   "metadata": {},
   "source": [
    "В данном признаке больше 50% пропусков. Удалим этот признак."
   ]
  },
  {
   "cell_type": "code",
   "execution_count": 23,
   "id": "bf06873d",
   "metadata": {},
   "outputs": [],
   "source": [
    "train.drop(columns = 'Months since last delinquent', axis=1, inplace=True)"
   ]
  },
  {
   "cell_type": "markdown",
   "id": "d924ce72",
   "metadata": {},
   "source": [
    "#### Bankruptcies - банкротства"
   ]
  },
  {
   "cell_type": "code",
   "execution_count": 24,
   "id": "f6951a5a",
   "metadata": {},
   "outputs": [
    {
     "data": {
      "text/plain": [
       "0.0    1878\n",
       "1.0     217\n",
       "2.0      11\n",
       "3.0       2\n",
       "4.0       1\n",
       "Name: Bankruptcies, dtype: int64"
      ]
     },
     "execution_count": 24,
     "metadata": {},
     "output_type": "execute_result"
    }
   ],
   "source": [
    "train.loc[ train[TARGET_NAME] == 1, 'Bankruptcies'].value_counts()"
   ]
  },
  {
   "cell_type": "code",
   "execution_count": 25,
   "id": "fe4bebeb",
   "metadata": {},
   "outputs": [
    {
     "data": {
      "text/plain": [
       "0.0    4782\n",
       "1.0     569\n",
       "2.0      20\n",
       "3.0       5\n",
       "4.0       1\n",
       "Name: Bankruptcies, dtype: int64"
      ]
     },
     "execution_count": 25,
     "metadata": {},
     "output_type": "execute_result"
    }
   ],
   "source": [
    "train.loc[ train[TARGET_NAME] == 0, 'Bankruptcies'].value_counts()"
   ]
  },
  {
   "cell_type": "markdown",
   "id": "594b9a73",
   "metadata": {},
   "source": [
    "Заполняем пропуски наиболее частым значением."
   ]
  },
  {
   "cell_type": "markdown",
   "id": "3ebaffe2",
   "metadata": {},
   "source": [
    "#### Credit Score - кредитная оценка"
   ]
  },
  {
   "cell_type": "code",
   "execution_count": 26,
   "id": "db596e13",
   "metadata": {},
   "outputs": [
    {
     "data": {
      "text/plain": [
       "0    1028\n",
       "1     529\n",
       "Name: Credit Default, dtype: int64"
      ]
     },
     "execution_count": 26,
     "metadata": {},
     "output_type": "execute_result"
    }
   ],
   "source": [
    "train.loc[train['Credit Score'].isnull(), TARGET_NAME].value_counts()"
   ]
  },
  {
   "cell_type": "code",
   "execution_count": 27,
   "id": "0a440096",
   "metadata": {
    "scrolled": true
   },
   "outputs": [
    {
     "data": {
      "text/plain": [
       "count    5943.000000\n",
       "mean     1151.087498\n",
       "std      1604.451418\n",
       "min       585.000000\n",
       "25%       711.000000\n",
       "50%       731.000000\n",
       "75%       743.000000\n",
       "max      7510.000000\n",
       "Name: Credit Score, dtype: float64"
      ]
     },
     "execution_count": 27,
     "metadata": {},
     "output_type": "execute_result"
    }
   ],
   "source": [
    "train['Credit Score'].describe()"
   ]
  },
  {
   "cell_type": "markdown",
   "id": "9bef141c",
   "metadata": {},
   "source": [
    "Числовой признак с пропусками и выбросами заполним их средним значением"
   ]
  },
  {
   "cell_type": "code",
   "execution_count": 28,
   "id": "096c718a",
   "metadata": {
    "scrolled": true
   },
   "outputs": [
    {
     "name": "stdout",
     "output_type": "stream",
     "text": [
      "Dataset:train\n",
      "Название                      |Всего |Null-значений |Уникальных значений |Тип\n",
      "Home Ownership                |  7500|             0|                   4|category\n",
      "Annual Income                 |  7500|             0|                5449|float64\n",
      "Years in current job          |  7500|             0|                  11|category\n",
      "Tax Liens                     |  7500|             0|                   8|category\n",
      "Number of Open Accounts       |  7500|             0|                  39|float64\n",
      "Years of Credit History       |  7500|             0|                 408|float64\n",
      "Maximum Open Credit           |  7500|             0|                6926|float64\n",
      "Number of Credit Problems     |  7500|             0|                   8|float64\n",
      "Bankruptcies                  |  7500|             0|                   5|float64\n",
      "Purpose                       |  7500|             0|                  15|category\n",
      "Term                          |  7500|             0|                   2|category\n",
      "Current Loan Amount           |  7500|             0|                5386|float64\n",
      "Current Credit Balance        |  7500|             0|                6592|float64\n",
      "Monthly Debt                  |  7500|             0|                6716|float64\n",
      "Credit Score                  |  7500|             0|                 262|float64\n",
      "Credit Default                |  7500|             0|                   2|int64\n",
      "----------------------------------------------------------------------------------------------------\n"
     ]
    }
   ],
   "source": [
    "train = cprepare.get_and_prepare(train)\n",
    "info_dataset(train, 'train')"
   ]
  },
  {
   "cell_type": "markdown",
   "id": "69054669",
   "metadata": {},
   "source": [
    "#### Оценим корреляцию признаков:"
   ]
  },
  {
   "cell_type": "code",
   "execution_count": 29,
   "id": "0aedaa83",
   "metadata": {},
   "outputs": [
    {
     "data": {
      "image/png": "[encoded data removed]",
      "text/plain": [
       "<Figure size 720x576 with 1 Axes>"
      ]
     },
     "metadata": {
      "needs_background": "light"
     },
     "output_type": "display_data"
    }
   ],
   "source": [
    "corr_with_target = train.corr().iloc[:-1, -1].sort_values(ascending=False)\n",
    "\n",
    "plt.figure(figsize=(10, 8))\n",
    "\n",
    "sns.barplot(x=corr_with_target.values, y=corr_with_target.index)\n",
    "\n",
    "plt.title('Correlation with target variable')\n",
    "plt.show()"
   ]
  },
  {
   "cell_type": "code",
   "execution_count": 30,
   "id": "a04b0ee9",
   "metadata": {},
   "outputs": [
    {
     "data": {
      "image/png": "[encoded data removed]",
      "text/plain": [
       "<Figure size 1440x1440 with 2 Axes>"
      ]
     },
     "metadata": {
      "needs_background": "light"
     },
     "output_type": "display_data"
    }
   ],
   "source": [
    "plt.figure(figsize = (20,20))\n",
    "\n",
    "sns.set(font_scale=1)\n",
    "sns.heatmap(train.corr().round(3), annot=True, linewidths=.5, cmap='GnBu')\n",
    "\n",
    "plt.title('Correlation matrix')\n",
    "plt.show()"
   ]
  },
  {
   "cell_type": "markdown",
   "id": "a5ab6761",
   "metadata": {},
   "source": [
    "Есть значимая корреляция\n",
    "\n",
    "* между Maximum Open Credit и Current Credit Balance\n",
    "* Current Credit Balance и Monthly Debt\n",
    "* Bankruptcies и Number of Credit Problems"
   ]
  },
  {
   "cell_type": "markdown",
   "id": "e43cb7ef",
   "metadata": {},
   "source": [
    "#### Нормализация данных"
   ]
  },
  {
   "cell_type": "code",
   "execution_count": 31,
   "id": "005ddf43",
   "metadata": {},
   "outputs": [],
   "source": [
    "NUM_FEATURE_NAMES = ['Annual Income', 'Number of Open Accounts', 'Years of Credit History', \n",
    "                     'Maximum Open Credit', 'Number of Credit Problems', 'Bankruptcies',\n",
    "       'Current Loan Amount', 'Current Credit Balance', 'Monthly Debt',\n",
    "       'Credit Score'] \n",
    "CAT_FEATURE_NAMES = [train.columns.get_loc(col) for col in train.select_dtypes(include='category').columns]"
   ]
  },
  {
   "cell_type": "code",
   "execution_count": 32,
   "id": "3e1bb40c",
   "metadata": {},
   "outputs": [],
   "source": [
    "train = cprepare.normalize(train,NUM_FEATURE_NAMES)"
   ]
  },
  {
   "cell_type": "markdown",
   "id": "4bceb03b",
   "metadata": {},
   "source": [
    "#### Разбиение на train и test"
   ]
  },
  {
   "cell_type": "code",
   "execution_count": 33,
   "id": "524034b7",
   "metadata": {},
   "outputs": [],
   "source": [
    "FEATURE_NAMES_SELECTED = train.columns.drop(TARGET_NAME)"
   ]
  },
  {
   "cell_type": "code",
   "execution_count": 34,
   "id": "0389b0e4",
   "metadata": {},
   "outputs": [],
   "source": [
    "X = train[FEATURE_NAMES_SELECTED]\n",
    "y = train[TARGET_NAME]\n",
    "\n",
    "X_train, X_valid, y_train, y_valid = train_test_split(X, y, shuffle=True, test_size=0.25, random_state=42)"
   ]
  },
  {
   "cell_type": "markdown",
   "id": "32160c56",
   "metadata": {},
   "source": [
    "#### Балансировка классов"
   ]
  },
  {
   "cell_type": "code",
   "execution_count": 35,
   "id": "c0f753b9",
   "metadata": {},
   "outputs": [
    {
     "data": {
      "text/plain": [
       "0    4074\n",
       "1    1551\n",
       "Name: Credit Default, dtype: int64"
      ]
     },
     "execution_count": 35,
     "metadata": {},
     "output_type": "execute_result"
    }
   ],
   "source": [
    "df_for_balancing = pd.concat([X_train, y_train], axis=1)\n",
    "df_for_balancing[TARGET_NAME].value_counts()"
   ]
  },
  {
   "cell_type": "code",
   "execution_count": 36,
   "id": "cf7fd283",
   "metadata": {},
   "outputs": [
    {
     "data": {
      "text/plain": [
       "0    4074\n",
       "1    3102\n",
       "Name: Credit Default, dtype: int64"
      ]
     },
     "execution_count": 36,
     "metadata": {},
     "output_type": "execute_result"
    }
   ],
   "source": [
    "df_balanced = balance_df_by_target(df_for_balancing, TARGET_NAME)\n",
    "df_balanced[TARGET_NAME].value_counts()"
   ]
  },
  {
   "cell_type": "code",
   "execution_count": 37,
   "id": "ab5b9f2b",
   "metadata": {},
   "outputs": [],
   "source": [
    "X_train = df_balanced.drop(columns=TARGET_NAME)\n",
    "y_train = df_balanced[TARGET_NAME]"
   ]
  },
  {
   "cell_type": "code",
   "execution_count": 38,
   "id": "beab721a",
   "metadata": {},
   "outputs": [
    {
     "name": "stdout",
     "output_type": "stream",
     "text": [
      "<class 'pandas.core.frame.DataFrame'>\n",
      "RangeIndex: 7500 entries, 0 to 7499\n",
      "Data columns (total 16 columns):\n",
      " #   Column                     Non-Null Count  Dtype   \n",
      "---  ------                     --------------  -----   \n",
      " 0   Home Ownership             7500 non-null   category\n",
      " 1   Annual Income              7500 non-null   float64 \n",
      " 2   Years in current job       7500 non-null   category\n",
      " 3   Tax Liens                  7500 non-null   category\n",
      " 4   Number of Open Accounts    7500 non-null   float64 \n",
      " 5   Years of Credit History    7500 non-null   float64 \n",
      " 6   Maximum Open Credit        7500 non-null   float64 \n",
      " 7   Number of Credit Problems  7500 non-null   float64 \n",
      " 8   Bankruptcies               7500 non-null   float64 \n",
      " 9   Purpose                    7500 non-null   category\n",
      " 10  Term                       7500 non-null   category\n",
      " 11  Current Loan Amount        7500 non-null   float64 \n",
      " 12  Current Credit Balance     7500 non-null   float64 \n",
      " 13  Monthly Debt               7500 non-null   float64 \n",
      " 14  Credit Score               7500 non-null   float64 \n",
      " 15  Credit Default             7500 non-null   int64   \n",
      "dtypes: category(5), float64(10), int64(1)\n",
      "memory usage: 683.0 KB\n"
     ]
    }
   ],
   "source": [
    "train.info()"
   ]
  },
  {
   "cell_type": "markdown",
   "id": "bcaa2500",
   "metadata": {},
   "source": [
    "#### Подбор моделей"
   ]
  },
  {
   "cell_type": "code",
   "execution_count": 39,
   "id": "97e9783f",
   "metadata": {},
   "outputs": [],
   "source": [
    "cat_feats = [X_train.columns.get_loc(col) for col in X_train.select_dtypes(include='category').columns]"
   ]
  },
  {
   "cell_type": "code",
   "execution_count": 40,
   "id": "7bcaf42d",
   "metadata": {},
   "outputs": [
    {
     "name": "stdout",
     "output_type": "stream",
     "text": [
      "TRAIN\n",
      "\n",
      "              precision    recall  f1-score   support\n",
      "\n",
      "           0       0.85      0.94      0.89      4074\n",
      "           1       0.90      0.79      0.84      3102\n",
      "\n",
      "    accuracy                           0.87      7176\n",
      "   macro avg       0.88      0.86      0.87      7176\n",
      "weighted avg       0.88      0.87      0.87      7176\n",
      "\n",
      "VALID\n",
      "\n",
      "              precision    recall  f1-score   support\n",
      "\n",
      "           0       0.79      0.85      0.82      1313\n",
      "           1       0.57      0.47      0.52       562\n",
      "\n",
      "    accuracy                           0.73      1875\n",
      "   macro avg       0.68      0.66      0.67      1875\n",
      "weighted avg       0.72      0.73      0.73      1875\n",
      "\n",
      "CONFUSION MATRIX\n",
      "\n",
      "col_0              0    1\n",
      "Credit Default           \n",
      "0               1112  201\n",
      "1                297  265\n",
      "Wall time: 29.8 s\n"
     ]
    }
   ],
   "source": [
    "%%time\n",
    "model_catb = catb.CatBoostClassifier(silent=True, random_state=21, cat_features=cat_feats)\n",
    "model_catb.fit(X_train, y_train)\n",
    "\n",
    "y_train_pred = model_catb.predict(X_train)\n",
    "y_valid_pred = model_catb.predict(X_valid)\n",
    "\n",
    "get_classification_report(y_train, y_train_pred, y_valid, y_valid_pred)"
   ]
  },
  {
   "cell_type": "markdown",
   "id": "60f2d13e",
   "metadata": {},
   "source": [
    "#### Выбор наилучшей модели, настройка гиперпараметров"
   ]
  },
  {
   "cell_type": "code",
   "execution_count": 41,
   "id": "58f10287",
   "metadata": {},
   "outputs": [],
   "source": [
    "params = {'n_estimators': [50, 100, 200, 300, 500, 1000],\n",
    "          'max_depth': [3, 5, 7, 9]}\n",
    "cv = KFold(n_splits=3, random_state=21, shuffle=True)"
   ]
  },
  {
   "cell_type": "code",
   "execution_count": 42,
   "id": "8c382b4b",
   "metadata": {},
   "outputs": [],
   "source": [
    "model = catb.CatBoostClassifier(class_weights=[1, 1.5], silent=True, random_state=21, cat_features=cat_feats)"
   ]
  },
  {
   "cell_type": "code",
   "execution_count": 43,
   "id": "26c70a52",
   "metadata": {},
   "outputs": [
    {
     "name": "stdout",
     "output_type": "stream",
     "text": [
      "Wall time: 1min 37s\n"
     ]
    },
    {
     "data": {
      "text/plain": [
       "RandomizedSearchCV(cv=KFold(n_splits=3, random_state=21, shuffle=True),\n",
       "                   estimator=<catboost.core.CatBoostClassifier object at 0x0000028A73F5AFD0>,\n",
       "                   n_jobs=-1,\n",
       "                   param_distributions={'max_depth': [3, 5, 7, 9],\n",
       "                                        'n_estimators': [50, 100, 200, 300, 500,\n",
       "                                                         1000]},\n",
       "                   scoring='f1')"
      ]
     },
     "execution_count": 43,
     "metadata": {},
     "output_type": "execute_result"
    }
   ],
   "source": [
    "%%time\n",
    "rs = RandomizedSearchCV(model, params, scoring='f1', cv=cv, n_jobs=-1)\n",
    "rs.fit(X_train, y_train)"
   ]
  },
  {
   "cell_type": "code",
   "execution_count": 44,
   "id": "7f985677",
   "metadata": {},
   "outputs": [
    {
     "data": {
      "text/plain": [
       "{'n_estimators': 300, 'max_depth': 9}"
      ]
     },
     "execution_count": 44,
     "metadata": {},
     "output_type": "execute_result"
    }
   ],
   "source": [
    "BEST_PARAMS = rs.best_params_\n",
    "BEST_PARAMS = {'n_estimators': 300, 'max_depth': 9}\n",
    "BEST_PARAMS"
   ]
  },
  {
   "cell_type": "code",
   "execution_count": 45,
   "id": "9093ba47",
   "metadata": {},
   "outputs": [
    {
     "data": {
      "text/plain": [
       "0.7391078431582084"
      ]
     },
     "execution_count": 45,
     "metadata": {},
     "output_type": "execute_result"
    }
   ],
   "source": [
    "rs.best_score_"
   ]
  },
  {
   "cell_type": "markdown",
   "id": "5789331a",
   "metadata": {},
   "source": [
    "#### Снижение степени переобучения"
   ]
  },
  {
   "cell_type": "code",
   "execution_count": 47,
   "id": "93b381f2",
   "metadata": {},
   "outputs": [
    {
     "name": "stdout",
     "output_type": "stream",
     "text": [
      "TRAIN\n",
      "\n",
      "              precision    recall  f1-score   support\n",
      "\n",
      "           0       0.73      0.88      0.79      4074\n",
      "           1       0.78      0.56      0.65      3102\n",
      "\n",
      "    accuracy                           0.74      7176\n",
      "   macro avg       0.75      0.72      0.72      7176\n",
      "weighted avg       0.75      0.74      0.73      7176\n",
      "\n",
      "VALID\n",
      "\n",
      "              precision    recall  f1-score   support\n",
      "\n",
      "           0       0.79      0.86      0.82      1313\n",
      "           1       0.59      0.48      0.53       562\n",
      "\n",
      "    accuracy                           0.74      1875\n",
      "   macro avg       0.69      0.67      0.67      1875\n",
      "weighted avg       0.73      0.74      0.73      1875\n",
      "\n",
      "CONFUSION MATRIX\n",
      "\n",
      "col_0              0    1\n",
      "Credit Default           \n",
      "0               1123  190\n",
      "1                293  269\n"
     ]
    }
   ],
   "source": [
    "L2_LEAF_REG = 100\n",
    "ignored_features = ['Maximum Open Credit', 'Monthly Debt', 'Bankruptcies']\n",
    "model = catb.CatBoostClassifier(l2_leaf_reg=L2_LEAF_REG, \n",
    "                                      ignored_features = ignored_features,\n",
    "                                      n_estimators=BEST_PARAMS['n_estimators'], \n",
    "                                      max_depth=BEST_PARAMS['max_depth'],\n",
    "                                      silent=True, \n",
    "                                      random_state=21, cat_features=cat_feats)\n",
    "model.fit(X_train, y_train)\n",
    "\n",
    "y_train_pred = model.predict(X_train)\n",
    "y_valid_pred = model.predict(X_valid)\n",
    "y_valid_pred_probs = model.predict_proba(X_valid)\n",
    "\n",
    "get_classification_report(y_train, y_train_pred, y_valid, y_valid_pred)"
   ]
  },
  {
   "cell_type": "markdown",
   "id": "d47a5cab",
   "metadata": {},
   "source": [
    "### Подбор оптимального размера выборки, кривая обучения"
   ]
  },
  {
   "cell_type": "code",
   "execution_count": 48,
   "id": "5da5d207",
   "metadata": {},
   "outputs": [
    {
     "name": "stdout",
     "output_type": "stream",
     "text": [
      "TRAIN\n",
      "\n",
      "              precision    recall  f1-score   support\n",
      "\n",
      "           0       0.81      0.68      0.74      4074\n",
      "           1       0.65      0.79      0.71      3102\n",
      "\n",
      "    accuracy                           0.73      7176\n",
      "   macro avg       0.73      0.73      0.73      7176\n",
      "weighted avg       0.74      0.73      0.73      7176\n",
      "\n",
      "VALID\n",
      "\n",
      "              precision    recall  f1-score   support\n",
      "\n",
      "           0       0.84      0.63      0.72      1313\n",
      "           1       0.45      0.71      0.55       562\n",
      "\n",
      "    accuracy                           0.66      1875\n",
      "   macro avg       0.64      0.67      0.64      1875\n",
      "weighted avg       0.72      0.66      0.67      1875\n",
      "\n",
      "CONFUSION MATRIX\n",
      "\n",
      "col_0             0    1\n",
      "Credit Default          \n",
      "0               828  485\n",
      "1               161  401\n"
     ]
    }
   ],
   "source": [
    "CLASS_WEIGHTS = [1,1.5]\n",
    "model = catb.CatBoostClassifier(l2_leaf_reg=L2_LEAF_REG, \n",
    "                                n_estimators=BEST_PARAMS['n_estimators'], \n",
    "                                max_depth=BEST_PARAMS['max_depth'],\n",
    "                                class_weights=CLASS_WEIGHTS,\n",
    "                                ignored_features = ignored_features,\n",
    "                                silent=True, \n",
    "                                random_state=21, cat_features=cat_feats)\n",
    "model.fit(X_train, y_train)\n",
    "\n",
    "y_train_pred = model.predict(X_train)\n",
    "y_valid_pred = model.predict(X_valid)\n",
    "y_valid_pred_probs = model.predict_proba(X_valid)\n",
    "\n",
    "get_classification_report(y_train, y_train_pred, y_valid, y_valid_pred)"
   ]
  },
  {
   "cell_type": "code",
   "execution_count": 49,
   "id": "6deffb94",
   "metadata": {},
   "outputs": [
    {
     "data": {
      "image/png": "[encoded data removed]",
      "text/plain": [
       "<Figure size 1080x576 with 1 Axes>"
      ]
     },
     "metadata": {},
     "output_type": "display_data"
    }
   ],
   "source": [
    "show_learning_curve_plot(model, X_train , y_train)"
   ]
  },
  {
   "cell_type": "markdown",
   "id": "a3a8a922",
   "metadata": {},
   "source": [
    "### Выбор порога вероятности для определения класса"
   ]
  },
  {
   "cell_type": "code",
   "execution_count": 50,
   "id": "1e195161",
   "metadata": {},
   "outputs": [
    {
     "data": {
      "image/png": "[encoded data removed]",
      "text/plain": [
       "<Figure size 1080x360 with 2 Axes>"
      ]
     },
     "metadata": {},
     "output_type": "display_data"
    }
   ],
   "source": [
    "show_proba_calibration_plots(y_valid_pred_probs[:, 1], y_valid)"
   ]
  },
  {
   "cell_type": "code",
   "execution_count": 56,
   "id": "443d5ed0",
   "metadata": {},
   "outputs": [],
   "source": [
    "PROPOBILITY = 0.5"
   ]
  },
  {
   "cell_type": "markdown",
   "id": "b3939dad",
   "metadata": {},
   "source": [
    "### Важность признаков"
   ]
  },
  {
   "cell_type": "code",
   "execution_count": 57,
   "id": "2ab93367",
   "metadata": {},
   "outputs": [
    {
     "data": {
      "image/png": "[encoded data removed]",
      "text/plain": [
       "<Figure size 1440x383.4 with 1 Axes>"
      ]
     },
     "metadata": {},
     "output_type": "display_data"
    }
   ],
   "source": [
    "important_features_top = show_feature_importances(X_train.columns, model.feature_importances_, get_top=15)"
   ]
  },
  {
   "cell_type": "code",
   "execution_count": 58,
   "id": "b8f6b715",
   "metadata": {},
   "outputs": [
    {
     "name": "stdout",
     "output_type": "stream",
     "text": [
      "Current Loan Amount:float64\n",
      "Credit Score:float64\n",
      "Annual Income:float64\n",
      "Term:category\n",
      "Years of Credit History:float64\n",
      "Years in current job:category\n",
      "Home Ownership:category\n",
      "Number of Open Accounts:float64\n",
      "Current Credit Balance:float64\n",
      "Purpose:category\n",
      "Tax Liens:category\n",
      "Number of Credit Problems:float64\n",
      "Maximum Open Credit:float64\n",
      "Bankruptcies:float64\n",
      "Monthly Debt:float64\n"
     ]
    }
   ],
   "source": [
    "FINAL_CAT_FEATS = []\n",
    "for feat in important_features_top:\n",
    "    print(f'{feat}:{X_train[feat].dtype}')\n",
    "    if X_train[feat].dtype.name == 'category':\n",
    "            FINAL_CAT_FEATS.append(feat)\n",
    "for feat in ignored_features.copy():\n",
    "    if feat not in important_features_top:\n",
    "        ignored_features.remove(feat)"
   ]
  },
  {
   "cell_type": "code",
   "execution_count": 59,
   "id": "c7e46b48",
   "metadata": {},
   "outputs": [],
   "source": [
    "def bin_class_from_proba(y_valid_pred_probs):\n",
    "    dx = pd.DataFrame(y_valid_pred_probs)\n",
    "    dx[dx[1]>=PROPOBILITY] = 1\n",
    "    dx[dx[1]<PROPOBILITY] = 0\n",
    "    return dx[1].astype(int)"
   ]
  },
  {
   "cell_type": "code",
   "execution_count": 60,
   "id": "4d383d71",
   "metadata": {},
   "outputs": [
    {
     "name": "stdout",
     "output_type": "stream",
     "text": [
      "TRAIN\n",
      "\n",
      "              precision    recall  f1-score   support\n",
      "\n",
      "           0       0.81      0.68      0.74      4074\n",
      "           1       0.65      0.80      0.72      3102\n",
      "\n",
      "    accuracy                           0.73      7176\n",
      "   macro avg       0.73      0.74      0.73      7176\n",
      "weighted avg       0.75      0.73      0.73      7176\n",
      "\n",
      "VALID\n",
      "\n",
      "              precision    recall  f1-score   support\n",
      "\n",
      "           0       0.83      0.62      0.71      1313\n",
      "           1       0.45      0.71      0.55       562\n",
      "\n",
      "    accuracy                           0.65      1875\n",
      "   macro avg       0.64      0.67      0.63      1875\n",
      "weighted avg       0.72      0.65      0.66      1875\n",
      "\n",
      "CONFUSION MATRIX\n",
      "\n",
      "1                 0    1\n",
      "Credit Default          \n",
      "0               189  163\n",
      "1                80   75\n"
     ]
    }
   ],
   "source": [
    "final_model = catb.CatBoostClassifier(l2_leaf_reg=L2_LEAF_REG,\n",
    "                                n_estimators=BEST_PARAMS['n_estimators'], \n",
    "                                max_depth=BEST_PARAMS['max_depth'],\n",
    "                                silent=True, \n",
    "                                class_weights=CLASS_WEIGHTS,\n",
    "                                ignored_features = ignored_features,\n",
    "                                random_state=21, cat_features=FINAL_CAT_FEATS)\n",
    "final_model.fit(X_train[important_features_top], y_train)\n",
    "\n",
    "y_train_pred = final_model.predict(X_train[important_features_top])\n",
    "y_valid_pred_probs = final_model.predict_proba(X_valid[important_features_top])\n",
    "y_valid_pred = bin_class_from_proba(y_valid_pred_probs)\n",
    "get_classification_report(y_train, y_train_pred, y_valid, y_valid_pred)"
   ]
  },
  {
   "cell_type": "code",
   "execution_count": 61,
   "id": "c7f81520",
   "metadata": {},
   "outputs": [],
   "source": [
    "test = cprepare.prepare(test)\n",
    "test = cprepare.normalize(test, NUM_FEATURE_NAMES)"
   ]
  },
  {
   "cell_type": "code",
   "execution_count": 62,
   "id": "acb3a068",
   "metadata": {},
   "outputs": [
    {
     "data": {
      "text/plain": [
       "1    1288\n",
       "0    1212\n",
       "Name: Credit Default, dtype: int64"
      ]
     },
     "execution_count": 62,
     "metadata": {},
     "output_type": "execute_result"
    }
   ],
   "source": [
    "test_predict = bin_class_from_proba(final_model.predict_proba(test[important_features_top]))\n",
    "final_df = pd.DataFrame({'Id':range(7500, 10000),TARGET_NAME:test_predict.astype(int)})\n",
    "final_df.to_csv('Sgibnev_cours_project.csv', index=False)\n",
    "final_df[TARGET_NAME].value_counts()"
   ]
  }
 ],
 "metadata": {
  "kernelspec": {
   "display_name": "Python 3",
   "language": "python",
   "name": "python3"
  },
  "language_info": {
   "codemirror_mode": {
    "name": "ipython",
    "version": 3
   },
   "file_extension": ".py",
   "mimetype": "text/x-python",
   "name": "python",
   "nbconvert_exporter": "python",
   "pygments_lexer": "ipython3",
   "version": "3.9.0"
  }
 },
 "nbformat": 4,
 "nbformat_minor": 5
}
